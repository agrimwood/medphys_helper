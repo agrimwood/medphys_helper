{
  "nbformat": 4,
  "nbformat_minor": 0,
  "metadata": {
    "colab": {
      "private_outputs": true,
      "provenance": [],
      "authorship_tag": "ABX9TyNILhYVtmCEwtL834GNiKNL",
      "include_colab_link": true
    },
    "kernelspec": {
      "name": "python3",
      "display_name": "Python 3"
    },
    "language_info": {
      "name": "python"
    }
  },
  "cells": [
    {
      "cell_type": "markdown",
      "metadata": {
        "id": "view-in-github",
        "colab_type": "text"
      },
      "source": [
        "<a href=\"https://colab.research.google.com/github/agrimwood/medphys_helper/blob/main/CBCT_audit.ipynb\" target=\"_parent\"><img src=\"https://colab.research.google.com/assets/colab-badge.svg\" alt=\"Open In Colab\"/></a>"
      ]
    },
    {
      "cell_type": "code",
      "source": [
        "import os\n",
        "import glob\n",
        "import pandas as pd\n",
        "import numpy as np\n"
      ],
      "metadata": {
        "id": "u6uxZePJkGvL"
      },
      "execution_count": null,
      "outputs": []
    },
    {
      "cell_type": "code",
      "source": [
        "# Load K Factors (https://www.ncbi.nlm.nih.gov/pmc/articles/PMC4985946/)\n",
        "k = {\n",
        "    \"Abdomen\": 0.024,\n",
        "    \"Breast\": 0.027,\n",
        "    \"Head\": 0.002,\n",
        "    \"Head & Neck\": 0.0057,\n",
        "    \"Thorax\": 0.027,\n",
        "    \"Pelvis\": 0.02\n",
        "}\n",
        "\n",
        "# Load UK Wide CBDI values (https://iopscience.iop.org/article/10.1088/1361-6560/ad88d1/pdf)\n",
        "cbdi_truebeam = {\n",
        "    \"Clinical Site\": [\"Brain\",\"Head & Neck\",\"Breast\",\"Lung 3D\",\"Lung 4D\",\"Prostate\",\"Gynae\"],\n",
        "    \"Median\": [3.5,3.5,4.6,4.7,11.8,19.,19.],\n",
        "    \"IQR\": [0.1,0.5,1.6,0.,0.9,3.8,3.6]\n",
        "}\n",
        "cbdi_all = {\n",
        "    \"Clinical Site\": [\"Brain\",\"Head & Neck\",\"Breast\",\"Lung 3D\",\"Lung 4D\",\"Prostate\",\"Gynae\"],\n",
        "    \"Median\": [2.6,3.5,4.1,4.7,11.5,19.,19.],\n",
        "    \"IQR\": [2.2,2.9,2.4,1.3,1.9,6.2,5.9]\n",
        "}\n",
        "\n",
        "# Load OpenREM data\n",
        "xl_files = glob.glob(f\"/content/*.xlsx\")\n",
        "df = pd.concat([pd.read_excel(f, sheet_name=\"All data\") for f in xl_files])\n",
        "df_raw = df.copy()"
      ],
      "metadata": {
        "id": "xnB_-gc7iQm9"
      },
      "execution_count": null,
      "outputs": []
    },
    {
      "cell_type": "code",
      "execution_count": null,
      "metadata": {
        "id": "hr_Tu27KhvDP"
      },
      "outputs": [],
      "source": [
        "scan_stats = {}\n",
        "\n",
        "# Earliest date\n",
        "scan_stats[\"earliest_scan\"] = df[\"Study date\"].min()\n",
        "\n",
        "# Latest date\n",
        "scan_stats[\"latest_scan\"] = df[\"Study date\"].max()\n",
        "\n",
        "# Number of sessions\n",
        "scan_stats[\"n_scans\"] = len(df)\n"
      ]
    },
    {
      "cell_type": "code",
      "source": [
        "# Number of sessions after exclusions\n",
        "df = df[(df[\"Test patient?\"].isna()) & (df[\"Accession number\"].notna()) & (df[\"Age\"]>=15) & (df[\"Age\"]<100) & (df[\"Sex\"] != \"O\")]\n",
        "scan_stats[\"n_scans_excl\"] = len(df)\n",
        "\n",
        "# Number of sessions by linac\n",
        "scan_stats[\"n_scans_by_linac\"] = df[df[\"No. events\"]==1].groupby(\"Station name\").size().to_dict()\n",
        "\n",
        "# Number of sessions by protocol\n",
        "scan_stats[\"n_scans_by_protocol\"] = df[df[\"No. events\"]==1].groupby(\"E1 Protocol\").size().to_dict()\n",
        "\n",
        "# Number of extended sessions by protocol\n",
        "scan_stats[\"n_ext_scans_by_protocol\"] = df[df[\"No. events\"]>1].groupby(\"E1 Protocol\").size().to_dict()\n",
        "\n",
        "\n",
        "# Convert number of sessions to dataframe\n",
        "n_sessions = {\"E1 Protocol\": list(scan_stats[\"n_scans_by_protocol\"]), \"Local Protocol\": list(scan_stats[\"n_scans_by_protocol\"]), \"Number of sessions\": [i for i in scan_stats[\"n_scans_by_protocol\"].values()]}\n",
        "n_sessions[\"E1 Protocol\"].extend(list(scan_stats[\"n_ext_scans_by_protocol\"]))\n",
        "n_sessions[\"Local Protocol\"].extend([i+\" Extended\" for i in scan_stats[\"n_ext_scans_by_protocol\"]])\n",
        "n_sessions[\"Number of sessions\"].extend([i for i in scan_stats[\"n_ext_scans_by_protocol\"].values()])\n",
        "n_sessions = pd.DataFrame(n_sessions)\n",
        "n_sessions"
      ],
      "metadata": {
        "id": "NSLotKT_ibXs"
      },
      "execution_count": null,
      "outputs": []
    },
    {
      "cell_type": "code",
      "source": [
        "# Phantom Size by protocol\n",
        "scan_stats[\"phantom_sz_by_protocol\"] = df.groupby(\"E1 Protocol\")[\"E1 Phantom\"].unique()[:].to_dict()\n",
        "for i in scan_stats[\"phantom_sz_by_protocol\"].keys():\n",
        "  scan_stats[\"phantom_sz_by_protocol\"][i]=float(scan_stats[\"phantom_sz_by_protocol\"][i][0].replace(\" cm\",\"\"))\n",
        "\n",
        "# Convert to dataframe\n",
        "phantom_size = pd.DataFrame({\"E1 Protocol\": scan_stats[\"phantom_sz_by_protocol\"].keys(), \"Phantom Size (cm)\": scan_stats[\"phantom_sz_by_protocol\"].values()})\n",
        "phantom_size"
      ],
      "metadata": {
        "id": "JTyPXpBEio4u"
      },
      "execution_count": null,
      "outputs": []
    },
    {
      "cell_type": "code",
      "source": [
        "# CTDI Median by protocol (non extended)\n",
        "scan_stats[\"ctdi_median_by_protocol\"] = df[df[\"No. events\"]==1].groupby(\"E1 Protocol\")[\"E1 CTDIvol\"].median().to_dict()\n",
        "\n",
        "# CTDI IQR by protocol (non extended)\n",
        "scan_stats[\"ctdi_IQR_by_protocol\"] = {}\n",
        "for i in df[df[\"No. events\"]==1][\"E1 Protocol\"].unique():\n",
        "  scan_stats[\"ctdi_IQR_by_protocol\"][i] = df[df[\"E1 Protocol\"]==i][\"E1 CTDIvol\"].quantile(0.75) - df[df[\"E1 Protocol\"]==i][\"E1 CTDIvol\"].quantile(0.25)\n",
        "\n",
        "\n",
        "# CTDI Median by extended protocol\n",
        "scan_stats[\"ext_ctdi_median_by_protocol\"] = df[df[\"No. events\"]==2].groupby(\"E1 Protocol\")[\"E1 CTDIvol\"].median().to_dict()\n",
        "\n",
        "# CTDI IQR by extended protocol\n",
        "scan_stats[\"ext_ctdi_IQR_by_protocol\"] = {}\n",
        "for i in df[df[\"No. events\"]==2][\"E1 Protocol\"].unique():\n",
        "  scan_stats[\"ext_ctdi_IQR_by_protocol\"][i] = df[df[\"E1 Protocol\"]==i][\"E1 CTDIvol\"].quantile(0.75) - df[df[\"E1 Protocol\"]==i][\"E1 CTDIvol\"].quantile(0.25)\n",
        "\n",
        "\n",
        "# convert back to dataframe\n",
        "ctdi_local = {\"E1 Protocol\": [], \"Local Protocol\": [], \"Local CTDI Median\": [], \"Local CTDI IQR\": []}\n",
        "for i in scan_stats[\"ctdi_median_by_protocol\"].keys():\n",
        "  ctdi_local[\"Local Protocol\"].append(i)\n",
        "  ctdi_local[\"E1 Protocol\"].append(i)\n",
        "  ctdi_local[\"Local CTDI Median\"].append(scan_stats[\"ctdi_median_by_protocol\"][i])\n",
        "  ctdi_local[\"Local CTDI IQR\"].append(scan_stats[\"ctdi_IQR_by_protocol\"][i])\n",
        "for i in scan_stats[\"ext_ctdi_median_by_protocol\"].keys():\n",
        "  ctdi_local[\"Local Protocol\"].append(i+\" Extended\")\n",
        "  ctdi_local[\"E1 Protocol\"].append(i)\n",
        "  ctdi_local[\"Local CTDI Median\"].append(scan_stats[\"ext_ctdi_median_by_protocol\"][i])\n",
        "  ctdi_local[\"Local CTDI IQR\"].append(scan_stats[\"ext_ctdi_IQR_by_protocol\"][i])\n",
        "\n",
        "ctdi_local = pd.DataFrame(ctdi_local)\n",
        "ctdi_local"
      ],
      "metadata": {
        "id": "_DKJSvc-irsk"
      },
      "execution_count": null,
      "outputs": []
    },
    {
      "cell_type": "code",
      "source": [
        "# Total scan length median by protocol\n",
        "df.astype({'E1 Scanning length': 'float', 'E2 Scanning length': 'float'}).dtypes\n",
        "df.loc[(df[\"E2 Scanning length\"].isna()), (\"E2 Scanning length\")] = 0\n",
        "df[\"Total Scan Length\"] = df[\"E1 Scanning length\"]/10 + df[\"E2 Scanning length\"]/10\n",
        "scan_stats[\"scan_length_by_protocol\"] = df[df[\"No. events\"]==1].groupby(\"E1 Protocol\")[\"Total Scan Length\"].median().to_dict()\n",
        "\n",
        "# Total scan length median by extended protocol\n",
        "scan_stats[\"ext_scan_length_by_protocol\"] = df[df[\"No. events\"]==2].groupby(\"E1 Protocol\")[\"Total Scan Length\"].median().to_dict()\n",
        "\n",
        "\n",
        "# convert back to dataframe\n",
        "scan_length = {\"E1 Protocol\": [i for i in scan_stats[\"scan_length_by_protocol\"]], \"Local Protocol\": [i for i in scan_stats[\"scan_length_by_protocol\"]], \"Scan Length Median\": [i for i in scan_stats[\"scan_length_by_protocol\"].values()]}\n",
        "scan_length['E1 Protocol'].extend([i for i in scan_stats[\"ext_scan_length_by_protocol\"]])\n",
        "scan_length[\"Local Protocol\"].extend([i+\" Extended\" for i in scan_stats[\"ext_scan_length_by_protocol\"]])\n",
        "scan_length[\"Scan Length Median\"].extend([i for i in scan_stats[\"ext_scan_length_by_protocol\"].values()])\n",
        "scan_length = pd.DataFrame(scan_length)\n",
        "scan_length\n"
      ],
      "metadata": {
        "id": "fg9SypeEi8aP"
      },
      "execution_count": null,
      "outputs": []
    },
    {
      "cell_type": "code",
      "source": [
        "# Total DLP median by protocol\n",
        "scan_stats[\"dlp_median_by_protocol\"] = df[df['No. events']==1].groupby(\"E1 Protocol\")[\"DLP total (mGy.cm)\"].median().to_dict()\n",
        "\n",
        "# Total DLP IQR by protocol\n",
        "scan_stats[\"dlp_IQR_by_protocol\"] = {}\n",
        "for i in df[df[\"No. events\"]==1][\"E1 Protocol\"].unique():\n",
        "  scan_stats[\"dlp_IQR_by_protocol\"][i] = df[df[\"E1 Protocol\"]==i][\"DLP total (mGy.cm)\"].quantile(0.75) - df[df[\"E1 Protocol\"]==i][\"DLP total (mGy.cm)\"].quantile(0.25)\n",
        "\n",
        "\n",
        "# Total DLP median by extended protocol\n",
        "scan_stats[\"ext_dlp_median_by_protocol\"] = df[df['No. events']==2].groupby(\"E1 Protocol\")[\"DLP total (mGy.cm)\"].median().to_dict()\n",
        "\n",
        "# Total DLP IQR by extended protocol\n",
        "scan_stats[\"ext_dlp_IQR_by_protocol\"] = {}\n",
        "for i in df[df[\"No. events\"]==2][\"E1 Protocol\"].unique():\n",
        "  scan_stats[\"ext_dlp_IQR_by_protocol\"][i] = df[df[\"E1 Protocol\"]==i][\"DLP total (mGy.cm)\"].quantile(0.75) - df[df[\"E1 Protocol\"]==i][\"DLP total (mGy.cm)\"].quantile(0.25)\n",
        "\n",
        "\n",
        "# convert back to dataframe\n",
        "dlp_local = {\"E1 Protocol\": [], \"Local Protocol\": [], \"Local DLP Median\": [], \"Local DLP IQR\": []}\n",
        "for i in scan_stats[\"dlp_median_by_protocol\"].keys():\n",
        "  dlp_local[\"Local Protocol\"].append(i)\n",
        "  dlp_local[\"E1 Protocol\"].append(i)\n",
        "  dlp_local[\"Local DLP Median\"].append(scan_stats[\"dlp_median_by_protocol\"][i])\n",
        "  dlp_local[\"Local DLP IQR\"].append(scan_stats[\"dlp_IQR_by_protocol\"][i])\n",
        "for i in scan_stats[\"ext_dlp_median_by_protocol\"].keys():\n",
        "  dlp_local[\"Local Protocol\"].append(i+\" Extended\")\n",
        "  dlp_local[\"E1 Protocol\"].append(i)\n",
        "  dlp_local[\"Local DLP Median\"].append(scan_stats[\"ext_dlp_median_by_protocol\"][i])\n",
        "  dlp_local[\"Local DLP IQR\"].append(scan_stats[\"ext_dlp_IQR_by_protocol\"][i])\n",
        "dlp_local = pd.DataFrame(dlp_local)\n",
        "dlp_local\n"
      ],
      "metadata": {
        "id": "VMbu-LmHjAHH"
      },
      "execution_count": null,
      "outputs": []
    },
    {
      "cell_type": "code",
      "source": [
        "# Effective dose from local DLP\n",
        "'''\n",
        "Manually cross-reference K Factors to the appropriate Local Protocol to calculate effective dose.\n",
        "For Head_POST calculate dose for both Brain and Head & Neck\n",
        "\n",
        "Effective Dose = DLP * k\n",
        "\n",
        "'''\n",
        "\n",
        "d = {\"E1 Protocol\": [], \"k Site\": [], \"k Factor\": []}\n",
        "for i in scan_stats[\"dlp_median_by_protocol\"].keys():\n",
        "  if \"abdomen\" in i.lower():\n",
        "    d[\"E1 Protocol\"].append(i)\n",
        "    d[\"k Site\"].append(\"Abdomen\")\n",
        "    d[\"k Factor\"].append(k[\"Abdomen\"])\n",
        "  elif \"head\" in i.lower():\n",
        "    d[\"E1 Protocol\"].append(i)\n",
        "    d[\"k Site\"].append(\"Head\")\n",
        "    d[\"k Factor\"].append(k[\"Head\"])\n",
        "    d[\"E1 Protocol\"].append(i)\n",
        "    d[\"k Site\"].append(\"Head & Neck\")\n",
        "    d[\"k Factor\"].append(k[\"Head & Neck\"])\n",
        "  elif \"breast\" in i.lower():\n",
        "    d[\"E1 Protocol\"].append(i)\n",
        "    d[\"k Site\"].append(\"Breast\")\n",
        "    d[\"k Factor\"].append(k[\"Breast\"])\n",
        "  elif \"thorax\" in i.lower():\n",
        "    d[\"E1 Protocol\"].append(i)\n",
        "    d[\"k Site\"].append(\"Thorax\")\n",
        "    d[\"k Factor\"].append(k[\"Thorax\"])\n",
        "  elif \"pelvis\" in i.lower():\n",
        "    d[\"E1 Protocol\"].append(i)\n",
        "    d[\"k Site\"].append(\"Pelvis\")\n",
        "    d[\"k Factor\"].append(k[\"Pelvis\"])\n",
        "\n",
        "ed_local = pd.DataFrame(d)\n",
        "ed_local = ed_local.merge(dlp_local, on=\"E1 Protocol\")\n",
        "ed_local[\"Local Effective Dose Median\"] = ed_local[\"Local DLP Median\"]*ed_local[\"k Factor\"]\n",
        "ed_local[\"Local Effective Dose IQR\"] = ed_local[\"Local DLP IQR\"]*ed_local[\"k Factor\"]\n",
        "ed_local"
      ],
      "metadata": {
        "id": "xBjWG4z2IkQS"
      },
      "execution_count": null,
      "outputs": []
    },
    {
      "cell_type": "code",
      "source": [
        "# Truebeam CTDI from Woods 2024\n",
        "'''\n",
        "Assign relevant UK-wide Truebeam CTDIs to Local Protocols by\n",
        "manually cross-referencing the appropriate Clinical Sites from Woods 2024 to Local Protocols.\n",
        "'''\n",
        "truebeam_ctdi = {\"E1 Protocol\": [], \"Local Protocol\": [], \"Clinical Site\": [], \"TB CTDI Median\": [], \"TB CTDI IQR\": []}\n",
        "for i,p in zip(ctdi_local[\"Local Protocol\"],ctdi_local[\"E1 Protocol\"]):\n",
        "  if \"head\" in i.lower():\n",
        "    j = cbdi_truebeam[\"Clinical Site\"].index(\"Brain\")\n",
        "    truebeam_ctdi[\"TB CTDI Median\"].append(cbdi_truebeam[\"Median\"][j])\n",
        "    truebeam_ctdi[\"TB CTDI IQR\"].append(cbdi_truebeam[\"IQR\"][j])\n",
        "    truebeam_ctdi[\"Local Protocol\"].append(i)\n",
        "    truebeam_ctdi[\"Clinical Site\"].append(cbdi_truebeam[\"Clinical Site\"][j])\n",
        "    truebeam_ctdi[\"E1 Protocol\"].append(p)\n",
        "    j = cbdi_truebeam[\"Clinical Site\"].index(\"Head & Neck\")\n",
        "    truebeam_ctdi[\"TB CTDI Median\"].append(cbdi_truebeam[\"Median\"][j])\n",
        "    truebeam_ctdi[\"TB CTDI IQR\"].append(cbdi_truebeam[\"IQR\"][j])\n",
        "    truebeam_ctdi[\"Local Protocol\"].append(i)\n",
        "    truebeam_ctdi[\"Clinical Site\"].append(cbdi_truebeam[\"Clinical Site\"][j])\n",
        "    truebeam_ctdi[\"E1 Protocol\"].append(p)\n",
        "  elif \"abdomen\" in i.lower():\n",
        "    j = cbdi_truebeam[\"Clinical Site\"].index(\"Prostate\")\n",
        "    truebeam_ctdi[\"TB CTDI Median\"].append(cbdi_truebeam[\"Median\"][j])\n",
        "    truebeam_ctdi[\"TB CTDI IQR\"].append(cbdi_truebeam[\"IQR\"][j])\n",
        "    truebeam_ctdi[\"Local Protocol\"].append(i)\n",
        "    truebeam_ctdi[\"Clinical Site\"].append(cbdi_truebeam[\"Clinical Site\"][j])\n",
        "    truebeam_ctdi[\"E1 Protocol\"].append(p)\n",
        "  elif \"breast\" in i.lower():\n",
        "    j = cbdi_truebeam[\"Clinical Site\"].index(\"Breast\")\n",
        "    truebeam_ctdi[\"TB CTDI Median\"].append(cbdi_truebeam[\"Median\"][j])\n",
        "    truebeam_ctdi[\"TB CTDI IQR\"].append(cbdi_truebeam[\"IQR\"][j])\n",
        "    truebeam_ctdi[\"Local Protocol\"].append(i)\n",
        "    truebeam_ctdi[\"Clinical Site\"].append(cbdi_truebeam[\"Clinical Site\"][j])\n",
        "    truebeam_ctdi[\"E1 Protocol\"].append(p)\n",
        "  elif \"4d thorax\" in i.lower():\n",
        "    j = cbdi_truebeam[\"Clinical Site\"].index(\"Lung 4D\")\n",
        "    truebeam_ctdi[\"TB CTDI Median\"].append(cbdi_truebeam[\"Median\"][j])\n",
        "    truebeam_ctdi[\"TB CTDI IQR\"].append(cbdi_truebeam[\"IQR\"][j])\n",
        "    truebeam_ctdi[\"Local Protocol\"].append(i)\n",
        "    truebeam_ctdi[\"Clinical Site\"].append(cbdi_truebeam[\"Clinical Site\"][j])\n",
        "    truebeam_ctdi[\"E1 Protocol\"].append(p)\n",
        "  elif \"thorax\" in i.lower():\n",
        "    j = cbdi_truebeam[\"Clinical Site\"].index(\"Lung 3D\")\n",
        "    truebeam_ctdi[\"TB CTDI Median\"].append(cbdi_truebeam[\"Median\"][j])\n",
        "    truebeam_ctdi[\"TB CTDI IQR\"].append(cbdi_truebeam[\"IQR\"][j])\n",
        "    truebeam_ctdi[\"Local Protocol\"].append(i)\n",
        "    truebeam_ctdi[\"Clinical Site\"].append(cbdi_truebeam[\"Clinical Site\"][j])\n",
        "    truebeam_ctdi[\"E1 Protocol\"].append(p)\n",
        "  elif \"pelvis\" in i.lower():\n",
        "    j = cbdi_truebeam[\"Clinical Site\"].index(\"Prostate\")\n",
        "    truebeam_ctdi[\"TB CTDI Median\"].append(cbdi_truebeam[\"Median\"][j])\n",
        "    truebeam_ctdi[\"TB CTDI IQR\"].append(cbdi_truebeam[\"IQR\"][j])\n",
        "    truebeam_ctdi[\"Local Protocol\"].append(i)\n",
        "    truebeam_ctdi[\"Clinical Site\"].append(cbdi_truebeam[\"Clinical Site\"][j])\n",
        "    truebeam_ctdi[\"E1 Protocol\"].append(p)\n",
        "    j = cbdi_truebeam[\"Clinical Site\"].index(\"Gynae\")\n",
        "    truebeam_ctdi[\"TB CTDI Median\"].append(cbdi_truebeam[\"Median\"][j])\n",
        "    truebeam_ctdi[\"TB CTDI IQR\"].append(cbdi_truebeam[\"IQR\"][j])\n",
        "    truebeam_ctdi[\"Local Protocol\"].append(i)\n",
        "    truebeam_ctdi[\"Clinical Site\"].append(cbdi_truebeam[\"Clinical Site\"][j])\n",
        "    truebeam_ctdi[\"E1 Protocol\"].append(p)\n",
        "\n",
        "truebeam_ctdi = pd.DataFrame(truebeam_ctdi)\n",
        "truebeam_ctdi"
      ],
      "metadata": {
        "id": "UIoWJN7wPGU7"
      },
      "execution_count": null,
      "outputs": []
    },
    {
      "cell_type": "code",
      "source": [
        "# All CTDI from Woods 2024\n",
        "'''\n",
        "Assign relevant UK-wide CTDIs to Local Protocols by\n",
        "manually cross-referencing the appropriate Clinical Sites from Woods 2024 to Local Protocols.\n",
        "'''\n",
        "\n",
        "all_ctdi = {\"E1 Protocol\": [], \"Local Protocol\": [], \"Clinical Site\": [], \"All CTDI Median\": [], \"All CTDI IQR\": []}\n",
        "for i,p in zip(ctdi_local[\"Local Protocol\"],ctdi_local[\"E1 Protocol\"]):\n",
        "  if \"head\" in i.lower():\n",
        "    j = cbdi_all[\"Clinical Site\"].index(\"Brain\")\n",
        "    all_ctdi[\"All CTDI Median\"].append(cbdi_all[\"Median\"][j])\n",
        "    all_ctdi[\"All CTDI IQR\"].append(cbdi_all[\"IQR\"][j])\n",
        "    all_ctdi[\"Local Protocol\"].append(i)\n",
        "    all_ctdi[\"E1 Protocol\"].append(p)\n",
        "    all_ctdi[\"Clinical Site\"].append(cbdi_all[\"Clinical Site\"][j])\n",
        "    j = cbdi_all[\"Clinical Site\"].index(\"Head & Neck\")\n",
        "    all_ctdi[\"All CTDI Median\"].append(cbdi_all[\"Median\"][j])\n",
        "    all_ctdi[\"All CTDI IQR\"].append(cbdi_all[\"IQR\"][j])\n",
        "    all_ctdi[\"Local Protocol\"].append(i)\n",
        "    all_ctdi[\"E1 Protocol\"].append(p)\n",
        "    all_ctdi[\"Clinical Site\"].append(cbdi_all[\"Clinical Site\"][j])\n",
        "  elif \"abdomen\" in i.lower():\n",
        "    j = cbdi_all[\"Clinical Site\"].index(\"Prostate\")\n",
        "    all_ctdi[\"All CTDI Median\"].append(cbdi_all[\"Median\"][j])\n",
        "    all_ctdi[\"All CTDI IQR\"].append(cbdi_all[\"IQR\"][j])\n",
        "    all_ctdi[\"Local Protocol\"].append(i)\n",
        "    all_ctdi[\"E1 Protocol\"].append(p)\n",
        "    all_ctdi[\"Clinical Site\"].append(cbdi_all[\"Clinical Site\"][j])\n",
        "  elif \"breast\" in i.lower():\n",
        "    j = cbdi_all[\"Clinical Site\"].index(\"Breast\")\n",
        "    all_ctdi[\"All CTDI Median\"].append(cbdi_all[\"Median\"][j])\n",
        "    all_ctdi[\"All CTDI IQR\"].append(cbdi_all[\"IQR\"][j])\n",
        "    all_ctdi[\"Local Protocol\"].append(i)\n",
        "    all_ctdi[\"E1 Protocol\"].append(p)\n",
        "    all_ctdi[\"Clinical Site\"].append(cbdi_all[\"Clinical Site\"][j])\n",
        "  elif \"4d thorax\" in i.lower():\n",
        "    j = cbdi_all[\"Clinical Site\"].index(\"Lung 4D\")\n",
        "    all_ctdi[\"All CTDI Median\"].append(cbdi_all[\"Median\"][j])\n",
        "    all_ctdi[\"All CTDI IQR\"].append(cbdi_all[\"IQR\"][j])\n",
        "    all_ctdi[\"Local Protocol\"].append(i)\n",
        "    all_ctdi[\"E1 Protocol\"].append(p)\n",
        "    all_ctdi[\"Clinical Site\"].append(cbdi_all[\"Clinical Site\"][j])\n",
        "  elif \"thorax\" in i.lower():\n",
        "    j = cbdi_all[\"Clinical Site\"].index(\"Lung 3D\")\n",
        "    all_ctdi[\"All CTDI Median\"].append(cbdi_all[\"Median\"][j])\n",
        "    all_ctdi[\"All CTDI IQR\"].append(cbdi_all[\"IQR\"][j])\n",
        "    all_ctdi[\"Local Protocol\"].append(i)\n",
        "    all_ctdi[\"E1 Protocol\"].append(p)\n",
        "    all_ctdi[\"Clinical Site\"].append(cbdi_all[\"Clinical Site\"][j])\n",
        "  elif \"pelvis\" in i.lower():\n",
        "    j = cbdi_all[\"Clinical Site\"].index(\"Prostate\")\n",
        "    all_ctdi[\"All CTDI Median\"].append(cbdi_all[\"Median\"][j])\n",
        "    all_ctdi[\"All CTDI IQR\"].append(cbdi_all[\"IQR\"][j])\n",
        "    all_ctdi[\"Local Protocol\"].append(i)\n",
        "    all_ctdi[\"E1 Protocol\"].append(p)\n",
        "    all_ctdi[\"Clinical Site\"].append(cbdi_all[\"Clinical Site\"][j])\n",
        "    j = cbdi_all[\"Clinical Site\"].index(\"Gynae\")\n",
        "    all_ctdi[\"All CTDI Median\"].append(cbdi_all[\"Median\"][j])\n",
        "    all_ctdi[\"All CTDI IQR\"].append(cbdi_all[\"IQR\"][j])\n",
        "    all_ctdi[\"Local Protocol\"].append(i)\n",
        "    all_ctdi[\"E1 Protocol\"].append(p)\n",
        "    all_ctdi[\"Clinical Site\"].append(cbdi_all[\"Clinical Site\"][j])\n",
        "\n",
        "all_ctdi = pd.DataFrame(all_ctdi)\n",
        "all_ctdi"
      ],
      "metadata": {
        "id": "AnL0RVYrasZl"
      },
      "execution_count": null,
      "outputs": []
    },
    {
      "cell_type": "code",
      "source": [
        "# Truebeam DLP estimates from Woods 2024 CTDI\n",
        "'''\n",
        "Perform a rough estimate of DLP using Local Scan Lengths and UK-Wide Truebeam CTDI values from Woods 2024.\n",
        "\n",
        "DLP = CTDI * Scan Length\n",
        "\n",
        "'''\n",
        "truebeam_dlp = truebeam_ctdi.copy()\n",
        "truebeam_dlp = truebeam_dlp.merge(scan_length[[\"Local Protocol\", \"Scan Length Median\"]], on=\"Local Protocol\")\n",
        "truebeam_dlp[\"Truebeam DLP Median\"] = truebeam_dlp[\"TB CTDI Median\"]*truebeam_dlp[\"Scan Length Median\"]\n",
        "truebeam_dlp[\"Truebeam DLP IQR\"] = truebeam_dlp[\"TB CTDI IQR\"]*truebeam_dlp[\"Scan Length Median\"]\n",
        "truebeam_dlp"
      ],
      "metadata": {
        "id": "k8m8B_9DiNaT"
      },
      "execution_count": null,
      "outputs": []
    },
    {
      "cell_type": "code",
      "source": [
        "# All DLP estimates from Woods 2024 CTDI\n",
        "'''\n",
        "Perform a rough estimate of DLP using Local Scan Lengths and UK-Wide Truebeam CTDI values from Woods 2024.\n",
        "\n",
        "DLP = CTDI * Scan Length\n",
        "\n",
        "'''\n",
        "all_dlp = all_ctdi.copy()\n",
        "all_dlp = all_dlp.merge(scan_length[[\"Local Protocol\", \"Scan Length Median\"]], on=\"Local Protocol\")\n",
        "all_dlp[\"All DLP Median\"] = all_dlp[\"All CTDI Median\"]*all_dlp[\"Scan Length Median\"]\n",
        "all_dlp[\"All DLP IQR\"] = all_dlp[\"All CTDI IQR\"]*all_dlp[\"Scan Length Median\"]\n",
        "all_dlp"
      ],
      "metadata": {
        "id": "5BHOdVX8nD4M"
      },
      "execution_count": null,
      "outputs": []
    },
    {
      "cell_type": "code",
      "source": [
        "# Truebeam Effective Dose estimates for Woods 2024\n",
        "truebeam_ed = truebeam_dlp.copy()\n",
        "truebeam_ed[\"K Name\"] = truebeam_ed[\"Local Protocol\"]\n",
        "truebeam_ed.loc[truebeam_ed[\"Clinical Site\"]==\"Brain\",\"K Name\"] =  truebeam_ed[\"Local Protocol\"] + \" \" + \"Head\"\n",
        "truebeam_ed.loc[truebeam_ed[\"Clinical Site\"]==\"Head & Neck\",\"K Name\"] =  truebeam_ed[\"Local Protocol\"] + \" \" + \"Head & Neck\"\n",
        "\n",
        "k_data = ed_local[[\"Local Protocol\", \"k Site\", \"k Factor\"]].copy()\n",
        "k_data[\"K Name\"] = k_data[\"Local Protocol\"]\n",
        "k_data.loc[k_data[\"k Site\"]==\"Head\",\"K Name\"] =  k_data[\"Local Protocol\"] + \" \" + \"Head\"\n",
        "k_data.loc[k_data[\"k Site\"]==\"Head & Neck\",\"K Name\"] =  k_data[\"Local Protocol\"] + \" \" + \"Head & Neck\"\n",
        "truebeam_ed = truebeam_ed.merge(k_data[[\"K Name\", \"k Factor\"]], on=\"K Name\")\n",
        "truebeam_ed[\"TB Edose Median\"] = truebeam_ed[\"Truebeam DLP Median\"]*truebeam_ed[\"k Factor\"]\n",
        "truebeam_ed[\"TB Edose IQR\"] = truebeam_ed[\"Truebeam DLP IQR\"]*truebeam_ed[\"k Factor\"]\n",
        "truebeam_ed"
      ],
      "metadata": {
        "id": "WlDXHoeyoGZ9"
      },
      "execution_count": null,
      "outputs": []
    },
    {
      "cell_type": "code",
      "source": [
        "# All Effective Dose estimates for Woods 2024\n",
        "all_ed = all_dlp.copy()\n",
        "all_ed[\"K Name\"] = all_ed[\"Local Protocol\"]\n",
        "all_ed.loc[all_ed[\"Clinical Site\"]==\"Brain\",\"K Name\"] =  all_ed[\"Local Protocol\"] + \" \" + \"Head\"\n",
        "all_ed.loc[all_ed[\"Clinical Site\"]==\"Head & Neck\",\"K Name\"] =  all_ed[\"Local Protocol\"] + \" \" + \"Head & Neck\"\n",
        "\n",
        "k_data = ed_local[[\"Local Protocol\", \"k Site\", \"k Factor\"]].copy()\n",
        "k_data[\"K Name\"] = k_data[\"Local Protocol\"]\n",
        "k_data.loc[k_data[\"k Site\"]==\"Head\",\"K Name\"] =  k_data[\"Local Protocol\"] + \" \" + \"Head\"\n",
        "k_data.loc[k_data[\"k Site\"]==\"Head & Neck\",\"K Name\"] =  k_data[\"Local Protocol\"] + \" \" + \"Head & Neck\"\n",
        "all_ed = all_ed.merge(k_data[[\"K Name\", \"k Factor\"]], on=\"K Name\")\n",
        "all_ed[\"All Edose Median\"] = all_ed[\"All DLP Median\"]*all_ed[\"k Factor\"]\n",
        "all_ed[\"All Edose IQR\"] = all_ed[\"All DLP IQR\"]*all_ed[\"k Factor\"]\n",
        "all_ed"
      ],
      "metadata": {
        "id": "6ZQIPz0tzGvz"
      },
      "execution_count": null,
      "outputs": []
    },
    {
      "cell_type": "code",
      "source": [
        "# Make summary tables and export to excel workbook\n",
        "\n",
        "# DRL Summary\n",
        "drl_summary = phantom_size.merge(ctdi_local, on=\"E1 Protocol\")\n",
        "drl_summary = drl_summary.merge(ed_local[['Local Protocol','Local DLP Median','k Factor','Local Effective Dose Median']], on=\"Local Protocol\")\n",
        "\n",
        "# CTDI summary\n",
        "ctdi_summary = ctdi_local.merge(truebeam_ctdi, on=[\"Local Protocol\", \"E1 Protocol\"])\n",
        "ctdi_summary = ctdi_summary.merge(all_ctdi, on=[\"Local Protocol\",\"E1 Protocol\",\"Clinical Site\"])\n",
        "\n",
        "# DLP summary\n",
        "dlp_summary = dlp_local.merge(truebeam_dlp.drop([\"Scan Length Median\",\"TB CTDI Median\",\"TB CTDI IQR\"], axis=1), on=[\"Local Protocol\", \"E1 Protocol\"])\n",
        "dlp_summary = dlp_summary.merge(all_dlp.drop([\"Scan Length Median\",\"All CTDI Median\",\"All CTDI IQR\"], axis=1), on=[\"Local Protocol\",\"Clinical Site\",\"E1 Protocol\"])\n",
        "\n",
        "# Effective Dose summary\n",
        "tb_ed = truebeam_ed[[\"E1 Protocol\", \"Local Protocol\", \"Clinical Site\", \"TB Edose Median\", \"TB Edose IQR\"]].copy()\n",
        "tb_ed[\"K Name\"] = tb_ed[\"Local Protocol\"]\n",
        "tb_ed.loc[tb_ed[\"Clinical Site\"]==\"Brain\",\"K Name\"] =  tb_ed[\"Local Protocol\"] + \" \" + \"Head\"\n",
        "tb_ed.loc[tb_ed[\"Clinical Site\"]==\"Head & Neck\",\"K Name\"] =  tb_ed[\"Local Protocol\"] + \" \" + \"Head & Neck\"\n",
        "lc_ed = ed_local.copy()\n",
        "lc_ed[\"K Name\"] = lc_ed[\"Local Protocol\"]\n",
        "lc_ed.loc[lc_ed[\"k Site\"]==\"Head\",\"K Name\"] =  lc_ed[\"Local Protocol\"] + \" \" + \"Head\"\n",
        "lc_ed.loc[lc_ed[\"k Site\"]==\"Head & Neck\",\"K Name\"] =  lc_ed[\"Local Protocol\"] + \" \" + \"Head & Neck\"\n",
        "ed_summary = lc_ed[[\"E1 Protocol\", \"Local Protocol\", \"K Name\", \"Local Effective Dose Median\", \"Local Effective Dose IQR\"]].merge(tb_ed, on=[\"Local Protocol\", \"K Name\", \"E1 Protocol\"])\n",
        "ed_summary = ed_summary.drop(\"K Name\", axis=1).merge(all_ed[[\"E1 Protocol\", \"Local Protocol\", \"Clinical Site\", \"All Edose Median\", \"All Edose IQR\"]], on=[\"Local Protocol\",\"Clinical Site\",\"E1 Protocol\"])\n",
        "ed_summary\n",
        "\n",
        "# Export\n",
        "summaries = {\"DRL\": drl_summary, \"CTDI\": ctdi_summary, \"DLP\": dlp_summary, \"Dose\": ed_summary, \"Session Count\": n_sessions, \"Scan Lengths\": scan_length, \"Raw Data\": df_raw, \"Filtered Data\": df}\n",
        "with pd.ExcelWriter('CBCT_DRL_Summaries.xlsx') as writer:\n",
        "  for i,df in summaries.items():\n",
        "    df.to_excel(writer, index=False, sheet_name=i)"
      ],
      "metadata": {
        "id": "ePntRA_S0Tbu"
      },
      "execution_count": null,
      "outputs": []
    },
    {
      "cell_type": "code",
      "source": [
        "print([scan_stats['earliest_scan'],scan_stats['latest_scan'], scan_stats['n_scans'], scan_stats['n_scans_excl']])\n",
        "print([scan_stats['n_scans_by_linac']])\n",
        "print([scan_stats['n_scans_by_protocol']])"
      ],
      "metadata": {
        "id": "6myyVAP6aCQK"
      },
      "execution_count": null,
      "outputs": []
    }
  ]
}