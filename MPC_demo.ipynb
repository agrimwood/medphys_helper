{
  "nbformat": 4,
  "nbformat_minor": 0,
  "metadata": {
    "colab": {
      "private_outputs": true,
      "provenance": [],
      "authorship_tag": "ABX9TyMXzdSgBeKf2OcF+cTTlAb1",
      "include_colab_link": true
    },
    "kernelspec": {
      "name": "python3",
      "display_name": "Python 3"
    },
    "language_info": {
      "name": "python"
    }
  },
  "cells": [
    {
      "cell_type": "markdown",
      "metadata": {
        "id": "view-in-github",
        "colab_type": "text"
      },
      "source": [
        "<a href=\"https://colab.research.google.com/github/agrimwood/medphys_helper/blob/main/MPC_demo.ipynb\" target=\"_parent\"><img src=\"https://colab.research.google.com/assets/colab-badge.svg\" alt=\"Open In Colab\"/></a>"
      ]
    },
    {
      "cell_type": "code",
      "execution_count": null,
      "metadata": {
        "id": "P-hWhyCxxRPv"
      },
      "outputs": [],
      "source": [
        "# Imports for JupyterLite\n",
        "%pip install -q ipywidgets\n",
        "from ipywidgets import interact, interactive, fixed, interact_manual\n",
        "import ipywidgets as widgets\n",
        "import pandas as pd\n",
        "import glob\n",
        "from matplotlib import pyplot as plt\n"
      ]
    },
    {
      "cell_type": "code",
      "source": [
        "# read all csv files to dataframe\n",
        "lst = []\n",
        "for f in glob.glob('/content/*.csv'):\n",
        "  df = pd.read_csv(f)\n",
        "  lst.append(df)\n",
        "df = pd.concat(lst,ignore_index=True)\n",
        "\n",
        "# simple interactive plot of MPC data\n",
        "pd.set_option('copy_on_write', True)\n",
        "@interact(TestParameter=df.columns[6::2], linac=[x for x in df['SN'].unique() if str(x) != 'nan'], energy=[x for x in df['Energies'].unique() if str(x) != 'nan'])\n",
        "def dataPlot(TestParameter,linac,energy):\n",
        "    dfplt = df[(df['SN']==linac) & (df['Energies']==energy)]\n",
        "    dfplt['Testdate'] = pd.to_datetime(dfplt['Testdate'], format='%Y-%m-%d %H:%M:%S', errors='coerce')\n",
        "    dfplt[TestParameter] = pd.to_numeric(df[TestParameter], errors='coerce')\n",
        "    dfplt = dfplt[['Testdate',TestParameter]].dropna()\n",
        "    dfplt.plot(x='Testdate',y=TestParameter, xlabel=\"Date\", ylabel=TestParameter, title = energy+\": \"+TestParameter, legend=False)\n",
        "    plt.show()\n",
        "    return"
      ],
      "metadata": {
        "id": "4qCL9sr8yL4R"
      },
      "execution_count": null,
      "outputs": []
    }
  ]
}