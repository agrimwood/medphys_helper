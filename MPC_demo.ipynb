{
  "nbformat": 4,
  "nbformat_minor": 0,
  "metadata": {
    "colab": {
      "private_outputs": true,
      "provenance": [],
      "authorship_tag": "ABX9TyNlrtZo33fke0BYrmP8B0D+",
      "include_colab_link": true
    },
    "kernelspec": {
      "name": "python3",
      "display_name": "Python 3"
    },
    "language_info": {
      "name": "python"
    }
  },
  "cells": [
    {
      "cell_type": "markdown",
      "metadata": {
        "id": "view-in-github",
        "colab_type": "text"
      },
      "source": [
        "<a href=\"https://colab.research.google.com/github/agrimwood/medphys_helper/blob/main/MPC_demo.ipynb\" target=\"_parent\"><img src=\"https://colab.research.google.com/assets/colab-badge.svg\" alt=\"Open In Colab\"/></a>"
      ]
    },
    {
      "cell_type": "code",
      "execution_count": null,
      "metadata": {
        "id": "P-hWhyCxxRPv"
      },
      "outputs": [],
      "source": [
        "# Imports for JupyterLite\n",
        "%pip install -q ipywidgets\n",
        "from ipywidgets import interact, interactive, fixed, interact_manual\n",
        "import ipywidgets as widgets\n",
        "import pandas as pd\n",
        "import glob\n",
        "from matplotlib import pyplot as plt\n"
      ]
    },
    {
      "cell_type": "code",
      "source": [
        "import seaborn as sns\n",
        "import itertools\n",
        "# read all csv files to dataframe\n",
        "lst = []\n",
        "for f in glob.glob('/content/*.csv'):\n",
        "  df = pd.read_csv(f)\n",
        "  lst.append(df)\n",
        "df = pd.concat(lst,ignore_index=True)\n",
        "df.Energies = df.Energies.str.upper()\n",
        "\n",
        "# simple interactive plot of MPC data\n",
        "pd.set_option('copy_on_write', True)\n",
        "@interact(TestParameter=df.columns[6::2],\n",
        "          linac=[x for x in df['SN'].unique() if str(x) != 'nan'],\n",
        "          energy=[x for x in df['Energies'].unique() if str(x) != 'nan'],\n",
        "          auto_yaxis=True,\n",
        "          ymin=df[df.columns[6::2]].min().min(),\n",
        "          ymax=df[df.columns[6::2]].max().max(),\n",
        "          dtmin=widgets.DatePicker(description=\"Start Date\"),\n",
        "          dtmax=widgets.DatePicker(description=\"End Date\"))\n",
        "def dataPlot(TestParameter,linac,energy,dtmin,dtmax,auto_yaxis,ymin,ymax):\n",
        "    dfplt = df[(df['SN']==linac) & (df['Energies']==energy)]\n",
        "    dfplt['Testdate'] = pd.to_datetime(dfplt['Testdate'], format='%Y-%m-%d %H:%M:%S', errors='coerce')\n",
        "    dfplt[TestParameter] = pd.to_numeric(df[TestParameter], errors='coerce')\n",
        "    dfplt = dfplt[['Testdate',TestParameter,TestParameter+\" Result\"]].dropna()\n",
        "    fig, ax = plt.subplots(layout='constrained', figsize=(12.5,5))\n",
        "    if auto_yaxis:\n",
        "      p1 = sns.scatterplot(x='Testdate', y=TestParameter, data=dfplt, hue=TestParameter+\" Result\", ax=ax)\n",
        "      p2 = sns.lineplot(x='Testdate', y=TestParameter, data=dfplt, size=0.5, legend=False, color = \"black\", ax=ax)\n",
        "    else:\n",
        "      p1 = sns.scatterplot(x='Testdate', y=TestParameter, data=dfplt, hue=TestParameter+\" Result\", ax=ax)\n",
        "      p2 = sns.lineplot(x='Testdate', y=TestParameter, data=dfplt, size=0.5, legend=False, color = \"black\", ax=ax)\n",
        "      plt.ylim([ymin,ymax])\n",
        "    plt.xlim([dtmin,dtmax])\n",
        "    plt.title(energy+\": \"+TestParameter)\n",
        "    plt.ylabel(TestParameter)\n",
        "    plt.xlabel(\"Date\")\n",
        "    plt.show()\n",
        "    return"
      ],
      "metadata": {
        "id": "l0GhnI3vdn-6"
      },
      "execution_count": null,
      "outputs": []
    },
    {
      "cell_type": "code",
      "source": [],
      "metadata": {
        "id": "6L_F7yOzhsUo"
      },
      "execution_count": null,
      "outputs": []
    }
  ]
}