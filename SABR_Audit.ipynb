{
  "cells": [
    {
      "cell_type": "markdown",
      "metadata": {
        "id": "view-in-github",
        "colab_type": "text"
      },
      "source": [
        "<a href=\"https://colab.research.google.com/github/agrimwood/medphys_helper/blob/main/SABR_Audit.ipynb\" target=\"_parent\"><img src=\"https://colab.research.google.com/assets/colab-badge.svg\" alt=\"Open In Colab\"/></a>"
      ]
    },
    {
      "cell_type": "code",
      "execution_count": null,
      "metadata": {
        "id": "AAi68tk5fkeL"
      },
      "outputs": [],
      "source": [
        "# initialise and import raw match data\n",
        "!rm -r /content/*.txt\n",
        "!rm -r /content/*.csv\n",
        "!mkdir /content/img\n",
        "!git clone https://github.com/agrimwood/medphys_helper.git\n",
        "from pathlib import Path\n",
        "from matplotlib import pyplot as plt\n",
        "from matplotlib.patches import Ellipse\n",
        "from matplotlib import rcParams\n",
        "rcParams.update({'figure.autolayout': True})\n",
        "from scipy import stats\n",
        "import os\n",
        "import pandas as pd\n",
        "import numpy as np\n",
        "import seaborn as sns\n",
        "from glob import glob\n",
        "from medphys_helper.margins import margin_calc\n",
        "from google.colab import files\n",
        "from google.colab import data_table\n",
        "data_table.enable_dataframe_formatter()\n",
        "%config InlineBackend.figure_format = \"svg\"\n",
        "print (\"\\n\\n##### LOAD ANONYMISED REFERENCE ID TABLE #####\")\n",
        "uploaded = files.upload()\n",
        "print(\"##### File uploaded #####\\n\\n\")\n",
        "print (\"##### LOAD ANONYMISED RAW OFFLINE REVIEW FILES EXPORTED FROM ARIA: #####\")\n",
        "uploaded = files.upload()\n",
        "print(\"##### Files uploaded #####\")\n",
        "results = {}"
      ]
    },
    {
      "cell_type": "code",
      "execution_count": null,
      "metadata": {
        "id": "ryyTYuvQvxGS"
      },
      "outputs": [],
      "source": [
        "# convert ID table to dataframe\n",
        "ID_table = pd.read_csv(\"/content/AnonTable.csv\", header=0)\n",
        "ID_table.head()"
      ]
    },
    {
      "cell_type": "code",
      "execution_count": null,
      "metadata": {
        "id": "0GZMarbJT95q"
      },
      "outputs": [],
      "source": [
        "# preprocess and list only plans from 01/01/2022 onwards\n",
        "nandrop = []\n",
        "keep_dict = {'Image Type': 'CBCT'}\n",
        "m = margin_calc(plansSpecified=True)\n",
        "m.preprocess_data(keep_dict=keep_dict,end_to_end=None,nandrop=nandrop,fraction_threshold=2)\n",
        "\n",
        "df = m.filtered_data.copy()\n",
        "df = df[(pd.to_datetime(df['Session Date'],format='%d/%m/%Y')>=pd.to_datetime('01/01/2022',format='%d/%m/%Y')) & (df['Image Status'].isin(['App'])) ]\n",
        "tx = df[['PatientID','Plan ID']].drop_duplicates().dropna()\n",
        "print(df.columns.values)\n"
      ]
    },
    {
      "cell_type": "code",
      "execution_count": null,
      "metadata": {
        "id": "s6-Q98GgGfeN"
      },
      "outputs": [],
      "source": [
        "# Filter on PatientID, Session Date/Time\n",
        "'''\n",
        "aq = df[['PatientID',\n",
        "         'Plan ID',\n",
        "         'Fraction',\n",
        "         'Image ID',\n",
        "         'Treatment Field ID',\n",
        "         'Session Date',\n",
        "         'Session Time',\n",
        "         'Time',\n",
        "         'Time.1',\n",
        "         'Offline Match Vrt',\n",
        "         'Offline Match Lng',\n",
        "         'Offline Match Lat',\n",
        "         'Offline Match Pitch',\n",
        "         'Offline Match Roll',\n",
        "         'Offline Match Rtn',\n",
        "         'Online Match Vrt',\n",
        "         'Online Match Lng',\n",
        "         'Online Match Lat',\n",
        "         'Couch Vrt',\n",
        "         'Couch Lng',\n",
        "         'Couch Lat',\n",
        "         'Couch Pitch',\n",
        "         'Couch Roll',\n",
        "         'Couch Rtn',\n",
        "         'Treatment Pos Vrt',\n",
        "         'Treatment Pos Lng',\n",
        "         'Treatment Pos Lat',\n",
        "         'Treatment Pos Pitch',\n",
        "         'Treatment Pos Roll',\n",
        "         'Treatment Pos Rtn']]\n",
        "'''\n",
        "aq = df[['PatientID',\n",
        "         'Plan ID',\n",
        "         'Fraction',\n",
        "         'Image ID',\n",
        "         'Treatment Field ID',\n",
        "         'Session Date',\n",
        "         'Session Time',\n",
        "         'Time',\n",
        "         'Time.1',\n",
        "         'Offline Match Vrt',\n",
        "         'Offline Match Lng',\n",
        "         'Offline Match Lat',\n",
        "         'Online Match Vrt',\n",
        "         'Online Match Lng',\n",
        "         'Online Match Lat',\n",
        "         'Couch Vrt',\n",
        "         'Couch Lng',\n",
        "         'Couch Lat',\n",
        "         'Treatment Pos Vrt',\n",
        "         'Treatment Pos Lng',\n",
        "         'Treatment Pos Lat']]\n",
        "# convert session date to datetime format\n",
        "aq['Session Date'] = pd.to_datetime(aq['Session Date'],format='%d/%m/%Y')\n",
        "# remove sessions with fewer than three CBCTs\n",
        "aq = aq.groupby(['PatientID','Plan ID','Session Date','Session Time']).filter(lambda x: len(x) > 2)\n",
        "# sort\n",
        "aq = aq.sort_values(by=['PatientID','Plan ID','Session Date','Time'],ignore_index=True)\n",
        "# insert treatment time into the final CBCT acquisition\n",
        "'''\n",
        "aq.iloc[aq.groupby(['PatientID','Plan ID','Session Date','Session Time']).nth(-1).index,6]=aq.iloc[aq.groupby(['PatientID','Plan ID','Session Date','Session Time']).nth(-2).index,6]\n",
        "'''\n",
        "aq.iloc[aq.groupby(['PatientID','Plan ID','Session Date','Session Time']).nth(-1).index,8]=aq.iloc[aq.groupby(['PatientID','Plan ID','Session Date','Session Time']).nth(-2).index,8]\n",
        "# insert fraction number into the final CBCT acquisition\n",
        "aq.iloc[aq.groupby(['PatientID','Plan ID','Session Date','Session Time']).nth(-1).index,2]=aq.iloc[aq.groupby(['PatientID','Plan ID','Session Date','Session Time']).nth(-2).index,2]\n",
        "# optionally filter sessions by patient ID and session date\n",
        "#pt = 2015\n",
        "#dt = '16/10/2023'\n",
        "#aq[ (aq['PatientID']==pt) & (pd.to_datetime(aq['Session Date'],format='%d/%m/%Y')==pd.to_datetime(dt,format='%d/%m/%Y'))]\n",
        "#aq[[        'Treatment Pos Lng',\n",
        "#         'Treatment Pos Lat',\n",
        "#         'Treatment Pos Pitch',\n",
        "#         'Treatment Pos Roll',\n",
        "#         'Treatment Pos Rtn']]\n",
        "\n",
        "# ArcCount = number of arcs per fraction\n",
        "aq['ArcCount'] = (\n",
        "    aq.groupby(['PatientID',\n",
        "                'Plan ID',\n",
        "                'Session Date',\n",
        "                'Session Time'])['Treatment Field ID'].transform('nunique'))\n",
        "\n",
        "# Select then remove sessions with multiple arcs\n",
        "arcTx =  aq [aq['ArcCount'] > 1]\n",
        "\n",
        "# SubFracs = number of treatments per fraction\n",
        "aq['SubFracs'] = (\n",
        "    aq.groupby(['PatientID',\n",
        "                'Plan ID',\n",
        "                'Session Date',\n",
        "                'Session Time'])['Time.1'].transform('nunique'))\n",
        "\n",
        "# Select then remove sessions with interrupted deliveries\n",
        "interruptTx = aq [aq['SubFracs'] > 1]\n",
        "\n",
        "# FracRow = fraction number for all records in a treatment session\n",
        "aq['FracRow'] = (\n",
        "    aq.groupby(['PatientID',\n",
        "                'Plan ID',\n",
        "                'Session Date',\n",
        "                'Session Time'])['Fraction'].transform('first'))\n",
        "aq.FracRow = pd.to_numeric(aq.FracRow, errors='coerce').fillna(0).astype(np.int64)\n",
        "\n",
        "# Select then remove sessions where treatment was not delivered\n",
        "nonTx = aq [aq['FracRow'] == 0]\n",
        "\n",
        "# remove filtered sessions\n",
        "aq = aq [aq['ArcCount'] == 1]\n",
        "aq = aq [aq['SubFracs'] == 1]\n",
        "aq = aq [aq['FracRow'] > 0]\n",
        "\n",
        "# TrtTime = time relative to treatment (s)\n",
        "aq['TrtTime'] = pd.to_datetime(aq['Time'],format= '%H:%M:%S').astype('int64')//1e9 - pd.to_datetime(aq.groupby(['PatientID','Plan ID','Session Date','Session Time'])['Time.1'].transform('first'),format= '%H:%M:%S').astype('int64')//1e9\n",
        "\n",
        "# label CBCTs as Initial/PreTx/PostTx\n",
        "aq['Acquisition'] = np.where(aq['TrtTime']<0, 'PreTx', 'PostTx')\n",
        "aq.loc[aq.groupby(['PatientID',\n",
        "                'Plan ID',\n",
        "                'Session Date',\n",
        "                'Session Time']).cumcount().eq(0), 'Acquisition'] = 'Initial'\n",
        "\n",
        "# count PreTx per session\n",
        "x = (aq.groupby(['PatientID','Plan ID','Session Date','Session Time'], as_index=False).agg(CountPreTx=(\"Acquisition\", lambda x: str(x).count('PreTx'))))\n",
        "aq=aq.join(x.set_index(['PatientID','Plan ID','Session Date','Session Time']), on=['PatientID','Plan ID','Session Date','Session Time'], how='inner')\n",
        "\n",
        "# Count PostTx per session\n",
        "x = (aq.groupby(['PatientID','Plan ID','Session Date','Session Time'], as_index=False).agg(CountPosTx=(\"Acquisition\", lambda x: str(x).count('PostTx'))))\n",
        "aq=aq.join(x.set_index(['PatientID','Plan ID','Session Date','Session Time']), on=['PatientID','Plan ID','Session Date','Session Time'], how='inner')\n"
      ]
    },
    {
      "cell_type": "code",
      "source": [
        "\n",
        "#Write filtered data to csv file\n",
        "aq.to_csv(\"sabr_data_updated.csv\",errors='ignore')\n"
      ],
      "metadata": {
        "id": "5R5oums642tj"
      },
      "execution_count": null,
      "outputs": []
    },
    {
      "cell_type": "code",
      "source": [
        "# Number of Cases\n",
        "bone_cases = len(aq[aq['PatientID']>=3000]['PatientID'].unique())\n",
        "lung_cases = len(aq[aq['PatientID']<3000]['PatientID'].unique())\n",
        "print(\"### Cases ###\")\n",
        "print(\"Bone: \"+str(bone_cases)+\", Lung: \"+str(lung_cases))\n",
        "\n",
        "# Number of Plans\n",
        "bone_plans = len(aq[aq['PatientID']>=3000]['Plan ID'].unique())\n",
        "lung_plans = len(aq[aq['PatientID']<3000]['Plan ID'].unique())\n",
        "print(\"### Plans ###\")\n",
        "print(\"Bone: \"+str(bone_plans)+\", Lung: \"+str(lung_plans))\n",
        "\n",
        "# Number of Fractions\n",
        "bone_fracs = len(aq[aq['PatientID']>=3000]['Session Date'].unique())\n",
        "lung_fracs = len(aq[aq['PatientID']<3000]['Session Date'].unique())\n",
        "print(\"### Fractions ###\")\n",
        "print(\"Bone: \"+str(bone_fracs)+\", Lung: \"+str(lung_fracs))\n",
        "\n",
        "# Number of CBCTs\n",
        "bone_cbcts = len(aq[aq['PatientID']>=3000]['Time'].unique())\n",
        "lung_cbcts = len(aq[aq['PatientID']<3000]['Time'].unique())\n",
        "print(\"### Fractions ###\")\n",
        "print(\"Bone: \"+str(bone_cbcts)+\", Lung: \"+str(lung_cbcts))\n",
        "\n",
        "# Number of interrupted treatments - excluded from csv\n",
        "bone_intrpt = len(interruptTx[interruptTx['PatientID']>=3000]['Session Date'].unique())\n",
        "lung_intrpt = len(interruptTx[interruptTx['PatientID']<3000]['Session Date'].unique())\n",
        "print(\"### Interrupts ###\")\n",
        "print(\"Bone: \"+str(bone_intrpt)+\", Lung: \"+str(lung_intrpt))\n",
        "\n",
        "# Number of treatments with inter-arc CBCTs - excluded from csv\n",
        "bone_interarc = len(arcTx[arcTx['PatientID']>=3000]['Session Date'].unique())\n",
        "lung_interarc = len(arcTx[arcTx['PatientID']<3000]['Session Date'].unique())\n",
        "print(\"### Multiple Arcs ###\")\n",
        "print(\"Bone: \"+str(bone_interarc)+\", Lung: \"+str(lung_interarc))"
      ],
      "metadata": {
        "id": "AhKE7-wjL9j8"
      },
      "execution_count": null,
      "outputs": []
    },
    {
      "cell_type": "code",
      "source": [
        "# create Patient ID tables\n",
        "bones = aq[aq['PatientID']>=3000]['PatientID'].unique()\n",
        "lungs = aq[aq['PatientID']<=3000]['PatientID'].unique()\n",
        "x=aq[aq['PatientID']>=3000].groupby(['PatientID','Plan ID'],as_index=False).first()\n",
        "x[['PatientID','Plan ID']]\n",
        "#y=aq[aq['PatientID']<3000].groupby(['PatientID','Plan ID'],as_index=False).first()\n",
        "#y[['PatientID','Plan ID']]"
      ],
      "metadata": {
        "id": "gu5aCMpkAYnX"
      },
      "execution_count": null,
      "outputs": []
    },
    {
      "cell_type": "code",
      "source": [
        "# Intrafraction Errors => PostTx online matches (OFFLINE match results are more reliable for PostTx)\n",
        "aq[['Offline Match Vrt','Offline Match Lng','Offline Match Lat']] = aq[['Offline Match Vrt','Offline Match Lng','Offline Match Lat']].astype(float)\n",
        "intrafrac_bones = aq[(aq['Acquisition']=='PostTx') & (aq['Offline Match Vrt'].notnull()) & (aq['PatientID']>=3000)][['PatientID','Plan ID','Session Date','Session Time','Offline Match Vrt','Offline Match Lng','Offline Match Lat']]\n",
        "intrafrac_lungs = aq[(aq['Acquisition']=='PostTx') & (aq['Offline Match Vrt'].notnull()) & (aq['PatientID']<3000)][['PatientID','Plan ID','Session Date','Session Time','Offline Match Vrt','Offline Match Lng','Offline Match Lat']]\n",
        "\n"
      ],
      "metadata": {
        "id": "gQlHqcMqFmWu"
      },
      "execution_count": null,
      "outputs": []
    },
    {
      "cell_type": "code",
      "source": [
        "# Initial Setup Errors => Initial online matches\n",
        "initial_bones = aq[(aq['Acquisition']=='Initial') & (aq['Online Match Vrt'].notnull()) & (aq['PatientID']>=3000)][['PatientID','Plan ID','Session Date','Session Time','Online Match Vrt','Online Match Lng','Online Match Lat']]\n",
        "initial_lungs = aq[(aq['Acquisition']=='Initial') & (aq['Online Match Vrt'].notnull()) & (aq['PatientID']<3000)][['PatientID','Plan ID','Session Date','Session Time','Online Match Vrt','Online Match Lng','Online Match Lat']]\n",
        "\n",
        "#initial_bones\n",
        "#intrafrac_lungs"
      ],
      "metadata": {
        "id": "A54TeT8oQ_Ut"
      },
      "execution_count": null,
      "outputs": []
    },
    {
      "cell_type": "code",
      "source": [
        "# End-to-end Setup Errors => Initial CBCT to Treatment couch position\n",
        "setup_bones = aq[(aq['Acquisition']=='Initial') & (aq['Treatment Pos Vrt'].notnull()) & (aq['PatientID']>=3000)][['PatientID','Plan ID','Session Date','Session Time','Couch Vrt','Couch Lng','Couch Lat','Treatment Pos Vrt','Treatment Pos Lng','Treatment Pos Lat']]\n",
        "setup_bones[['Setup Vrt','Setup Lng','Setup Lat']] = setup_bones[['Treatment Pos Vrt','Treatment Pos Lng','Treatment Pos Lat']] - setup_bones[['Couch Vrt','Couch Lng','Couch Lat']].values\n",
        "setup_lungs = aq[(aq['Acquisition']=='Initial') & (aq['Treatment Pos Vrt'].notnull()) & (aq['PatientID']<3000)][['PatientID','Plan ID','Session Date','Session Time','Couch Vrt','Couch Lng','Couch Lat','Treatment Pos Vrt','Treatment Pos Lng','Treatment Pos Lat']]\n",
        "setup_lungs[['Setup Vrt','Setup Lng','Setup Lat']] = setup_lungs[['Treatment Pos Vrt','Treatment Pos Lng','Treatment Pos Lat']] - setup_lungs[['Couch Vrt','Couch Lng','Couch Lat']].values\n",
        "\n",
        "#setup_bones\n",
        "#setup_lungs"
      ],
      "metadata": {
        "id": "BjXGyv8-dnP9"
      },
      "execution_count": null,
      "outputs": []
    },
    {
      "cell_type": "code",
      "source": [
        "# Population random error\n",
        "def rand_err(df=pd.DataFrame(), cols=[], group=[]):\n",
        "  all_cols = group + cols\n",
        "  df = df[all_cols].groupby(group).std()\n",
        "  P = len(df.index)\n",
        "  rms = {}\n",
        "  for c in cols:\n",
        "    df['sq'] = df[c] * df[c]\n",
        "    sum_sq = df['sq'].sum()\n",
        "    rms[c] = (sum_sq / P) ** 0.5\n",
        "  return rms\n",
        "\n",
        "# Population systematic error\n",
        "def syst_err(df=pd.DataFrame(), cols=[], group=[]):\n",
        "  all_cols = group + cols\n",
        "  df = df[all_cols].groupby(group).mean()\n",
        "  P = len(df.index)\n",
        "  dfM = df[cols].mean()\n",
        "  sd = {}\n",
        "  for c in cols:\n",
        "    df['sq'] = (df[c]-dfM[c]) ** 2\n",
        "    sum_sq = df['sq'].sum()\n",
        "    sd[c] = (sum_sq / (P-1)) ** 0.5\n",
        "  return sd\n",
        "\n",
        "# add fudge factor from BIR Geometric Uncertainties Guidance Section 2.4.3.3\n",
        "def add_fudge(fdict):\n",
        "  for k in fdict.keys():\n",
        "    fdict[k] = fdict[k] / (2**0.5)\n",
        "  return fdict\n"
      ],
      "metadata": {
        "id": "MI1-mfL0pVSa"
      },
      "execution_count": null,
      "outputs": []
    },
    {
      "cell_type": "code",
      "source": [
        "# Setup Error calcs\n",
        "bone_setuperr_Sigma = syst_err(setup_bones,['Setup Vrt','Setup Lng','Setup Lat'],group=['PatientID'])\n",
        "bone_setuperr_sigma = rand_err(setup_bones,['Setup Vrt','Setup Lng','Setup Lat'],group=['PatientID'])\n",
        "lung_setuperr_Sigma = syst_err(setup_lungs,['Setup Vrt','Setup Lng','Setup Lat'],group=['PatientID'])\n",
        "lung_setuperr_sigma = rand_err(setup_lungs,['Setup Vrt','Setup Lng','Setup Lat'],group=['PatientID'])\n",
        "\n",
        "#bone_setuperr_Sigma\n",
        "bone_setuperr_sigma\n",
        "#lung_setuperr_Sigma\n",
        "#lung_setuperr_sigma"
      ],
      "metadata": {
        "id": "0bo4ZCjGAnb4"
      },
      "execution_count": null,
      "outputs": []
    },
    {
      "cell_type": "code",
      "source": [
        "# Intrafraction Error calcs\n",
        "bone_intra_Sigma0 = syst_err(intrafrac_bones,['Offline Match Vrt','Offline Match Lng','Offline Match Lat'],group=['PatientID'])\n",
        "bone_intra_Sigma = add_fudge(bone_intra_Sigma0)\n",
        "bone_intra_sigma0 = rand_err(intrafrac_bones,['Offline Match Vrt','Offline Match Lng','Offline Match Lat'],group=['PatientID'])\n",
        "bone_intra_sigma = add_fudge(bone_intra_sigma0)\n",
        "lung_intra_Sigma0 = syst_err(intrafrac_lungs,['Offline Match Vrt','Offline Match Lng','Offline Match Lat'],group=['PatientID'])\n",
        "lung_intra_Sigma = add_fudge(lung_intra_Sigma0)\n",
        "lung_intra_sigma0 = rand_err(intrafrac_lungs,['Offline Match Vrt','Offline Match Lng','Offline Match Lat'],group=['PatientID'])\n",
        "lung_intra_sigma = add_fudge(lung_intra_sigma0)\n",
        "\n",
        "#bone_intra_Sigma\n",
        "bone_intra_sigma\n",
        "#lung_intra_Sigma\n",
        "#lung_intra_sigma"
      ],
      "metadata": {
        "id": "j0NJ9FnpCHYu"
      },
      "execution_count": null,
      "outputs": []
    },
    {
      "cell_type": "code",
      "source": [
        "# avg number of CBCTs per patient\n",
        "cnt = aq[aq['PatientID']>=3000].groupby(['PatientID','Plan ID','Session Date','Session Time'])['Acquisition'].count()\n",
        "sd=cnt.std()\n",
        "avg=cnt.mean()\n",
        "#cnt[cnt>3]\n",
        "print([avg,sd])"
      ],
      "metadata": {
        "id": "w_s45E3SJ2dj"
      },
      "execution_count": null,
      "outputs": []
    },
    {
      "cell_type": "code",
      "source": [
        "import seaborn as sns\n",
        "import matplotlib.pyplot as plt\n",
        "\n",
        "# match shifts\n",
        "#matchesVrt = aq[['PatientID','Acquisition','Online Match Vrt']]\n",
        "#matchesVrt = matchesVrt.rename(columns={'Online Match Vrt': 'Match Shift (mm)'})\n",
        "matchesVrt = aq[['PatientID','Acquisition','Online Match Vrt','Offline Match Vrt']]\n",
        "matchesVrt['Match Shift (mm)'] = matchesVrt['Online Match Vrt']\n",
        "matchesVrt.loc[matchesVrt['Acquisition']=='PostTx','Match Shift (mm)'] = matchesVrt.loc[matchesVrt['Acquisition']=='PostTx','Offline Match Vrt']\n",
        "matchesVrt['Axis'] = 'Vrt'\n",
        "\n",
        "matchesLat = aq[['PatientID','Acquisition','Online Match Lat','Offline Match Lat']]\n",
        "matchesLat['Match Shift (mm)'] = matchesLat['Online Match Lat']\n",
        "matchesLat.loc[matchesLat['Acquisition']=='PostTx','Match Shift (mm)'] = matchesLat.loc[matchesLat['Acquisition']=='PostTx','Offline Match Lat']\n",
        "matchesLat['Axis'] = 'Lat'\n",
        "\n",
        "matchesLng = aq[['PatientID','Acquisition','Online Match Lng', 'Offline Match Lng']]\n",
        "matchesLng['Match Shift (mm)'] = matchesLng['Online Match Lng']\n",
        "matchesLng.loc[matchesLng['Acquisition']=='PostTx','Match Shift (mm)'] = matchesLng.loc[matchesLng['Acquisition']=='PostTx','Offline Match Lng']\n",
        "matchesLng['Axis'] = 'Lng'\n",
        "\n",
        "matches = pd.concat([matchesVrt,matchesLat,matchesLng], ignore_index=True)\n",
        "matches['Cohort']=\"\"\n",
        "matches.loc[ matches['PatientID']>=3000,'Cohort' ] = \"Bone Mets\"\n",
        "matches.loc[ matches['PatientID']<3000,'Cohort' ] = \"Lung\"\n",
        "matches_bone = matches[ matches['Cohort']==\"Bone Mets\"]\n",
        "matches_lung = matches[ matches['Cohort']==\"Lung\"]\n",
        "\n",
        "#bone match shifts\n",
        "fig1, ax1 = plt.subplots()\n",
        "ax1.set_ylim([-1.5, 1.5])\n",
        "sns.set_theme(style=\"ticks\", palette=\"deep\")\n",
        "sns.boxplot(x='Axis', y='Match Shift (mm)',\n",
        "            hue='Acquisition',\n",
        "            data=matches_bone,\n",
        "            fliersize=3,ax=ax1).set_title(\"Match Shifts - Bone Mets\")\n",
        "sns.despine(offset=10, trim=True)\n",
        "plt.savefig(\"bone_boxplot.png\")\n",
        "plt.show()\n",
        "\n",
        "#lung match shifts\n",
        "fig2, ax2 = plt.subplots()\n",
        "ax2.set_ylim([-1.5, 1.5])\n",
        "sns.set_theme(style=\"ticks\", palette=\"deep\")\n",
        "ax2 = sns.boxplot(x='Axis', y='Match Shift (mm)',\n",
        "            hue='Acquisition',\n",
        "            data=matches_lung,\n",
        "            fliersize=3,ax=ax2).set_title(\"Match Shifts - Lung\")\n",
        "sns.despine(offset=10, trim=True)\n",
        "plt.ylim(reversed(plt.ylim()))\n",
        "plt.savefig(\"lung_boxplot.png\")\n",
        "plt.show()\n"
      ],
      "metadata": {
        "id": "K7-IOuCI_PHg"
      },
      "execution_count": null,
      "outputs": []
    }
  ],
  "metadata": {
    "colab": {
      "provenance": [],
      "authorship_tag": "ABX9TyNdKXqYj9rmzPFfcjh9jx5K",
      "include_colab_link": true
    },
    "kernelspec": {
      "display_name": "Python 3",
      "name": "python3"
    },
    "language_info": {
      "name": "python"
    }
  },
  "nbformat": 4,
  "nbformat_minor": 0
}